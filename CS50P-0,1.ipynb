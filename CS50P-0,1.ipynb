{
 "cells": [
  {
   "cell_type": "markdown",
   "id": "e10ebadf",
   "metadata": {},
   "source": [
    "# CS50P Lecture - 0 & 1"
   ]
  },
  {
   "cell_type": "markdown",
   "id": "58b6e0aa",
   "metadata": {},
   "source": [
    "# Variables\n",
    "* variable is a container that stores value"
   ]
  },
  {
   "cell_type": "code",
   "execution_count": 1,
   "id": "413d8e33",
   "metadata": {},
   "outputs": [
    {
     "name": "stdout",
     "output_type": "stream",
     "text": [
      "10\n"
     ]
    }
   ],
   "source": [
    "x = 10 \n",
    "print(x)"
   ]
  },
  {
   "cell_type": "markdown",
   "id": "0c311270",
   "metadata": {},
   "source": [
    "# Commments\n"
   ]
  },
  {
   "cell_type": "code",
   "execution_count": 2,
   "id": "37d7565a",
   "metadata": {},
   "outputs": [
    {
     "data": {
      "text/plain": [
       "' This is for \\nMuilti line \\ncomment'"
      ]
     },
     "execution_count": 2,
     "metadata": {},
     "output_type": "execute_result"
    }
   ],
   "source": [
    "#this is how to write a single line comment\n",
    "\"\"\" This is for \n",
    "Muilti line \n",
    "comment\"\"\"\n"
   ]
  },
  {
   "cell_type": "code",
   "execution_count": null,
   "id": "2cba6eca",
   "metadata": {},
   "outputs": [
    {
     "name": "stdout",
     "output_type": "stream",
     "text": [
      "Hello, \"friends\"\n"
     ]
    }
   ],
   "source": [
    "print(\"Hello, \\\"friends\\\"\")\n",
    "# '\\' is used because \\ is called as a escape character so we can have qoutes in the print statement"
   ]
  },
  {
   "cell_type": "markdown",
   "id": "0b6d51f3",
   "metadata": {},
   "source": [
    "### Formating text\n"
   ]
  },
  {
   "cell_type": "code",
   "execution_count": 13,
   "id": "99d1f126",
   "metadata": {},
   "outputs": [
    {
     "name": "stdout",
     "output_type": "stream",
     "text": [
      "Hello, Kasutub Mocherla\n",
      "First Name : 'Kasutub' & Last Name:'Mocherla'\n"
     ]
    }
   ],
   "source": [
    "name = input(\"Enter your name\").strip().title()\n",
    "#this will remove the unwanted spaces\n",
    "print(f\"Hello, {name}\")\n",
    "first , last = name.split(\" \")\n",
    "print(f\"First Name : '{first}' & Last Name:'{last}'\")"
   ]
  },
  {
   "cell_type": "markdown",
   "id": "cab79ced",
   "metadata": {},
   "source": [
    "# Data Types\n",
    "* int\n",
    "* float\n",
    "* complex\n",
    " ### Sequential Data type\n",
    " * str\n",
    " * list\n",
    " * tuple\n",
    " * range\n",
    " \n"
   ]
  },
  {
   "cell_type": "markdown",
   "id": "d6acc24a",
   "metadata": {},
   "source": [
    "#### Type Casting\n"
   ]
  },
  {
   "cell_type": "code",
   "execution_count": null,
   "id": "1f086e8b",
   "metadata": {},
   "outputs": [
    {
     "name": "stdout",
     "output_type": "stream",
     "text": [
      "W = 56 Z = 11\n"
     ]
    }
   ],
   "source": [
    "x = input(\"enter value of x\")\n",
    "y = input(\"enter value of y\")\n",
    "\n",
    "#without type casting the values get concatenated\n",
    "w = x + y\n",
    " #with typecasting the values will not get concatenated and they will get added\n",
    "z = int(x) + int(y)\n",
    "\n",
    "\n",
    "print(f\"W = {w} Z = {z}\")"
   ]
  },
  {
   "cell_type": "markdown",
   "id": "ac88f32a",
   "metadata": {},
   "source": [
    "- so instead of writing it two diffrent lines, we can write it in one line itself."
   ]
  },
  {
   "cell_type": "code",
   "execution_count": 15,
   "id": "8ae824d5",
   "metadata": {},
   "outputs": [
    {
     "name": "stdout",
     "output_type": "stream",
     "text": [
      "11\n"
     ]
    }
   ],
   "source": [
    "x=int(input(\"enter value of x\"))\n",
    "y=int(input(\"enter value of y\"))\n",
    "z = x + y\n",
    "print(z)\n"
   ]
  },
  {
   "cell_type": "markdown",
   "id": "c9573641",
   "metadata": {},
   "source": [
    "#### Float"
   ]
  },
  {
   "cell_type": "code",
   "execution_count": 19,
   "id": "9529f61c",
   "metadata": {},
   "outputs": [
    {
     "name": "stdout",
     "output_type": "stream",
     "text": [
      "0.8333\n"
     ]
    }
   ],
   "source": [
    "x = float(input(\"enter the value of x\"))\n",
    "y = float(input(\"enter the value of y\"))\n",
    "z = x/y\n",
    "print(f\"{z:.4f}\") "
   ]
  },
  {
   "cell_type": "markdown",
   "id": "b63814a6",
   "metadata": {},
   "source": [
    "* .2f will give you value upto two decimal places similarly .3f will give three decimal values"
   ]
  },
  {
   "cell_type": "markdown",
   "id": "f80f8ae3",
   "metadata": {},
   "source": [
    "## Functions"
   ]
  },
  {
   "cell_type": "markdown",
   "id": "028a0a00",
   "metadata": {},
   "source": [
    "> Syntax :"
   ]
  },
  {
   "cell_type": "code",
   "execution_count": null,
   "id": "79c86c0e",
   "metadata": {},
   "outputs": [
    {
     "name": "stdout",
     "output_type": "stream",
     "text": [
      "11\n"
     ]
    }
   ],
   "source": [
    "def add(x,y):\n",
    "    z = x + y\n",
    "    print(z)\n",
    "add(5,6)"
   ]
  },
  {
   "cell_type": "markdown",
   "id": "42b80d9a",
   "metadata": {},
   "source": [
    "- There are many types of Parameters\n",
    "1. Positional Arguments\n",
    "2. Keyword Arguments\n",
    "3. Default Arguments\n",
    "4. Arbitrary Arguments\n",
    "5. Positional-Only Parameters\n",
    "6. Keyword-Only Parameters\n"
   ]
  },
  {
   "cell_type": "markdown",
   "id": "c9e86a45",
   "metadata": {},
   "source": [
    "## Conditional Statements"
   ]
  },
  {
   "cell_type": "markdown",
   "id": "8efd9ea8",
   "metadata": {},
   "source": [
    "### if else"
   ]
  },
  {
   "cell_type": "code",
   "execution_count": 23,
   "id": "a8d2ae18",
   "metadata": {},
   "outputs": [
    {
     "name": "stdout",
     "output_type": "stream",
     "text": [
      "Positive Number\n"
     ]
    }
   ],
   "source": [
    "x = int(input(\"Enter the value of X\"))\n",
    "if x > 0:\n",
    "    print(\"Positive Number\")\n",
    "else:\n",
    "    print(\"Negative Number\")\n",
    "    "
   ]
  },
  {
   "cell_type": "markdown",
   "id": "2374eaf7",
   "metadata": {},
   "source": [
    "### if else ladder"
   ]
  },
  {
   "cell_type": "code",
   "execution_count": 25,
   "id": "6b261f81",
   "metadata": {},
   "outputs": [
    {
     "name": "stdout",
     "output_type": "stream",
     "text": [
      "B\n"
     ]
    }
   ],
   "source": [
    "x = int(input(\"Enter the value of X\"))\n",
    "if x > 90:\n",
    "    print(\"A\")\n",
    "elif x > 80 :\n",
    "    print(\"B\")"
   ]
  },
  {
   "cell_type": "markdown",
   "id": "1920cecb",
   "metadata": {},
   "source": [
    "- bool function"
   ]
  },
  {
   "cell_type": "code",
   "execution_count": null,
   "id": "59c51202",
   "metadata": {},
   "outputs": [
    {
     "name": "stdout",
     "output_type": "stream",
     "text": [
      "Even\n"
     ]
    }
   ],
   "source": [
    "def main():\n",
    "    x = int(input(\"Enter the value of X\"))\n",
    "    if even_no(x):\n",
    "        print(\"Even\")\n",
    "    else:\n",
    "        print(\"Odd\")\n",
    "\n",
    "def even_no(x):\n",
    "    if x%2 == 0:\n",
    "        return True\n",
    "    else:\n",
    "        return False\n",
    "\n",
    "main()"
   ]
  },
  {
   "cell_type": "code",
   "execution_count": 30,
   "id": "26a90930",
   "metadata": {},
   "outputs": [],
   "source": [
    "def even_no(x):\n",
    "    return True if x %2 == 0 else False\n",
    "    # return n %2 ==0"
   ]
  },
  {
   "cell_type": "markdown",
   "id": "2e89a77a",
   "metadata": {},
   "source": [
    "### Match\n"
   ]
  },
  {
   "cell_type": "code",
   "execution_count": 32,
   "id": "dca21c72",
   "metadata": {},
   "outputs": [
    {
     "name": "stdout",
     "output_type": "stream",
     "text": [
      "What ??\n"
     ]
    }
   ],
   "source": [
    "options = input(\"Option : \")\n",
    "match options:\n",
    "    case \"A\":\n",
    "        print(\"Option A\")\n",
    "    case \"B\":\n",
    "        print(\"Option B\")\n",
    "    case _:\n",
    "        print(\"What ??\")\n"
   ]
  },
  {
   "cell_type": "markdown",
   "id": "73e6ed12",
   "metadata": {},
   "source": [
    "## Loops"
   ]
  },
  {
   "cell_type": "markdown",
   "id": "9dd77d71",
   "metadata": {},
   "source": [
    "1. While"
   ]
  },
  {
   "cell_type": "code",
   "execution_count": null,
   "id": "81bcfd98",
   "metadata": {},
   "outputs": [],
   "source": [
    "i = 3\n",
    "while i!=0:\n",
    "    print(\"meow\")\n",
    "    i -= 1"
   ]
  },
  {
   "cell_type": "code",
   "execution_count": 39,
   "id": "88ed27b9",
   "metadata": {},
   "outputs": [
    {
     "ename": "ValueError",
     "evalue": "invalid literal for int() with base 10: '679p['",
     "output_type": "error",
     "traceback": [
      "\u001b[1;31m---------------------------------------------------------------------------\u001b[0m",
      "\u001b[1;31mValueError\u001b[0m                                Traceback (most recent call last)",
      "Cell \u001b[1;32mIn[39], line 2\u001b[0m\n\u001b[0;32m      1\u001b[0m \u001b[38;5;28;01mwhile\u001b[39;00m \u001b[38;5;28;01mTrue\u001b[39;00m:\n\u001b[1;32m----> 2\u001b[0m     n \u001b[38;5;241m=\u001b[39m \u001b[38;5;28;43mint\u001b[39;49m\u001b[43m(\u001b[49m\u001b[38;5;28;43minput\u001b[39;49m\u001b[43m(\u001b[49m\u001b[38;5;124;43m\"\u001b[39;49m\u001b[38;5;124;43mEnter the value of X\u001b[39;49m\u001b[38;5;124;43m\"\u001b[39;49m\u001b[43m)\u001b[49m\u001b[43m)\u001b[49m\n\u001b[0;32m      3\u001b[0m     \u001b[38;5;28;01mif\u001b[39;00m n \u001b[38;5;241m>\u001b[39m \u001b[38;5;241m0\u001b[39m:\n\u001b[0;32m      4\u001b[0m         \u001b[38;5;28;01mcontinue\u001b[39;00m\n",
      "\u001b[1;31mValueError\u001b[0m: invalid literal for int() with base 10: '679p['"
     ]
    }
   ],
   "source": [
    "while True:\n",
    "    n = int(input(\"Enter the value of X\"))\n",
    "    if n > 0:\n",
    "        continue\n",
    "        if n %2==0:\n",
    "            print(\"Even\")\n",
    "        else:\n",
    "            print(\"Odd\")\n",
    "    else:\n",
    "        break\n"
   ]
  },
  {
   "cell_type": "markdown",
   "id": "6d4ef1f2",
   "metadata": {},
   "source": [
    "2. For "
   ]
  },
  {
   "cell_type": "code",
   "execution_count": null,
   "id": "a52c8d4f",
   "metadata": {},
   "outputs": [],
   "source": [
    "for i in [0,1,2]:\n",
    "    print(\"meow\")"
   ]
  }
 ],
 "metadata": {
  "kernelspec": {
   "display_name": "Python 3",
   "language": "python",
   "name": "python3"
  },
  "language_info": {
   "codemirror_mode": {
    "name": "ipython",
    "version": 3
   },
   "file_extension": ".py",
   "mimetype": "text/x-python",
   "name": "python",
   "nbconvert_exporter": "python",
   "pygments_lexer": "ipython3",
   "version": "3.11.9"
  }
 },
 "nbformat": 4,
 "nbformat_minor": 5
}
