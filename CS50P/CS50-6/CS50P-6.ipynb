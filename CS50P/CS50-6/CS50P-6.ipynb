{
 "cells": [
  {
   "cell_type": "markdown",
   "id": "152bad6f",
   "metadata": {},
   "source": [
    "# CS50P - Lecture 6"
   ]
  },
  {
   "cell_type": "markdown",
   "id": "42540b57",
   "metadata": {},
   "source": [
    "### Lists"
   ]
  },
  {
   "cell_type": "code",
   "execution_count": null,
   "id": "943168d0",
   "metadata": {},
   "outputs": [],
   "source": [
    "name = input(\"What's your name? \")\n",
    "print(f\"hello,{name}\")"
   ]
  },
  {
   "cell_type": "markdown",
   "id": "0aadd553",
   "metadata": {},
   "source": [
    "- we can take names and insert them in a list using append function by list"
   ]
  },
  {
   "cell_type": "code",
   "execution_count": null,
   "id": "3a3feb19",
   "metadata": {},
   "outputs": [],
   "source": [
    "name = []\n",
    "for _ in range(3):\n",
    "    name.append(input(\"what's your name?\"))\n",
    "\n",
    "for name in sorted(name): # the sorted function will sort the list\n",
    "    print(f\"hello,{name}\")\n"
   ]
  },
  {
   "cell_type": "markdown",
   "id": "393b8157",
   "metadata": {},
   "source": [
    "- Now we will learn about files"
   ]
  },
  {
   "cell_type": "markdown",
   "id": "3f427fc3",
   "metadata": {},
   "source": [
    "## File I/O"
   ]
  },
  {
   "cell_type": "code",
   "execution_count": null,
   "id": "8392ee9b",
   "metadata": {},
   "outputs": [],
   "source": [
    "# now we will save the values into the files\n",
    "# so with the help of open to open the folder \n",
    "# we can read and write from the file\n",
    "\n",
    "name = input(\"what's your name\")\n",
    "file = open(\"names.txt\",\"w\") # open returns the file handle & w allows us to write\n",
    "file.write(name)\n",
    "file.close()\n",
    " "
   ]
  }
 ],
 "metadata": {
  "kernelspec": {
   "display_name": "Python 3",
   "language": "python",
   "name": "python3"
  },
  "language_info": {
   "codemirror_mode": {
    "name": "ipython",
    "version": 3
   },
   "file_extension": ".py",
   "mimetype": "text/x-python",
   "name": "python",
   "nbconvert_exporter": "python",
   "pygments_lexer": "ipython3",
   "version": "3.11.9"
  }
 },
 "nbformat": 4,
 "nbformat_minor": 5
}
