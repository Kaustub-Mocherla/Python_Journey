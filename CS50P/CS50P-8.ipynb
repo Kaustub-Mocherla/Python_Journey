{
 "cells": [
  {
   "cell_type": "markdown",
   "id": "13ee999b",
   "metadata": {},
   "source": [
    "# CS50P - Lecture 8"
   ]
  },
  {
   "cell_type": "markdown",
   "id": "9cdfdb31",
   "metadata": {},
   "source": [
    "## OOP\n",
    "### Object - Oriented Programming"
   ]
  },
  {
   "cell_type": "code",
   "execution_count": null,
   "id": "e43cfc9c",
   "metadata": {},
   "outputs": [],
   "source": [
    "name = input(\"Names: \")\n",
    "house = input(\"House: \")\n",
    "\n",
    "print(f\"{name}\")"
   ]
  }
 ],
 "metadata": {
  "language_info": {
   "name": "python"
  }
 },
 "nbformat": 4,
 "nbformat_minor": 5
}
