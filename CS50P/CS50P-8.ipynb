{
 "cells": [
  {
   "cell_type": "markdown",
   "id": "13ee999b",
   "metadata": {},
   "source": [
    "# CS50P - Lecture 8"
   ]
  },
  {
   "cell_type": "markdown",
   "id": "9cdfdb31",
   "metadata": {},
   "source": [
    "## OOP\n",
    "### Object - Oriented Programming"
   ]
  },
  {
   "cell_type": "markdown",
   "id": "59decaa6",
   "metadata": {},
   "source": [
    "### 1. Tuple"
   ]
  },
  {
   "cell_type": "code",
   "execution_count": null,
   "id": "e43cfc9c",
   "metadata": {},
   "outputs": [
    {
     "name": "stdout",
     "output_type": "stream",
     "text": [
      "Padma from Ravenclaw\n"
     ]
    }
   ],
   "source": [
    "def main():\n",
    "    student = get_student()\n",
    "    if student[0] == \"Padma\":\n",
    "        student[1] = \"Ravenclaw\"\n",
    "        \n",
    "    print(f\"{student[0]} from {student[1]}\")\n",
    "\n",
    "def get_student():\n",
    "    name = input(\"Names: \")\n",
    "    house = input(\"House: \")\n",
    "    return (name,house)\n",
    "\n",
    "if __name__ == \"__main__\":\n",
    "    main()"
   ]
  },
  {
   "cell_type": "markdown",
   "id": "ddd5919a",
   "metadata": {},
   "source": [
    "### 2. Dictionary"
   ]
  },
  {
   "cell_type": "code",
   "execution_count": null,
   "id": "d899e283",
   "metadata": {},
   "outputs": [],
   "source": [
    "def main():\n",
    "    student = get_student()\n",
    "    print(f\"{student['name']} from {student['house']}\")\n",
    "\n",
    "def get_student():\n",
    "    student = {}\n",
    "    name = input(\"Names: \")\n",
    "    house = input(\"House: \")\n",
    "    return student\n",
    "\n",
    "if __name__ == \"__main__\":\n",
    "     main()"
   ]
  },
  {
   "cell_type": "code",
   "execution_count": 11,
   "id": "0da0f2d4",
   "metadata": {},
   "outputs": [
    {
     "name": "stdout",
     "output_type": "stream",
     "text": [
      "Padma from Ravenclaw\n"
     ]
    }
   ],
   "source": [
    "def main():\n",
    "    student = get_student()\n",
    "    if student['name'] == \"Padma\":\n",
    "        student['house'] = \"Ravenclaw\"\n",
    "    print(f\"{student['name']} from {student['house']}\")\n",
    "\n",
    "def get_student():\n",
    "    name = input(\"Name :\")\n",
    "    house = input(\"House :\")\n",
    "    return {'name':name,'house':house}\n",
    "\n",
    "if __name__ == \"__main__\":\n",
    "     main()"
   ]
  },
  {
   "cell_type": "markdown",
   "id": "0c110371",
   "metadata": {},
   "source": [
    "### 3. Class\n"
   ]
  },
  {
   "cell_type": "code",
   "execution_count": null,
   "id": "dff921e7",
   "metadata": {},
   "outputs": [
    {
     "name": "stdout",
     "output_type": "stream",
     "text": [
      "kaustub from hyd\n"
     ]
    }
   ],
   "source": [
    "class Student:\n",
    "    ...\n",
    "\n",
    "def main():\n",
    "        student = get_student()\n",
    "        print(f\"{student.name} from {student.house}\")\n",
    "   \n",
    "def get_student():\n",
    "        student = Student()\n",
    "        student.name = input(\"Name :\")\n",
    "        student.house = input(\"House :\")\n",
    "        return student\n",
    "\n",
    "if __name__ == \"__main__\":\n",
    "     main()\n",
    "        "
   ]
  },
  {
   "cell_type": "code",
   "execution_count": null,
   "id": "b43d95d3",
   "metadata": {},
   "outputs": [],
   "source": [
    "class Student:  \n",
    "       def __init__(self):\n",
    "        self.houses = [\"gryffindor\",\"Hufflepuff\",\"Ravenclaw\",\"Slytherin\"]\n",
    "       \n",
    "\n",
    "def main():\n",
    "        student = get_student()\n",
    "        print(f\"{student.name} from {student.house}\")\n",
    "   \n",
    "def get_student():\n",
    "        student = Student()\n",
    "        student.name = input(\"Name :\")\n",
    "        student.house = input(\"House :\")\n",
    "        return student\n",
    "\n",
    "if __name__ == \"__main__\":\n",
    "     main()\n",
    "\n",
    "hat \n",
    "        "
   ]
  }
 ],
 "metadata": {
  "kernelspec": {
   "display_name": "Python 3",
   "language": "python",
   "name": "python3"
  },
  "language_info": {
   "codemirror_mode": {
    "name": "ipython",
    "version": 3
   },
   "file_extension": ".py",
   "mimetype": "text/x-python",
   "name": "python",
   "nbconvert_exporter": "python",
   "pygments_lexer": "ipython3",
   "version": "3.11.9"
  }
 },
 "nbformat": 4,
 "nbformat_minor": 5
}
