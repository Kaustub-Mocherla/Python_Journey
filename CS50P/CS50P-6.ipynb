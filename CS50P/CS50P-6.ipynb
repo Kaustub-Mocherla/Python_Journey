{
 "cells": [
  {
   "cell_type": "markdown",
   "id": "152bad6f",
   "metadata": {},
   "source": [
    "# CS50P - Lecture 6"
   ]
  },
  {
   "cell_type": "markdown",
   "id": "42540b57",
   "metadata": {},
   "source": [
    "### Lists"
   ]
  },
  {
   "cell_type": "code",
   "execution_count": null,
   "id": "943168d0",
   "metadata": {},
   "outputs": [],
   "source": [
    "name = input(\"What's your name? \")\n",
    "print(f\"hello,{name}\")"
   ]
  },
  {
   "cell_type": "markdown",
   "id": "0aadd553",
   "metadata": {},
   "source": [
    "- we can take names and insert them in a list using append function by list"
   ]
  },
  {
   "cell_type": "code",
   "execution_count": null,
   "id": "3a3feb19",
   "metadata": {},
   "outputs": [],
   "source": [
    "name = []\n",
    "for _ in range(3):\n",
    "    name.append(input(\"what's your name?\"))\n",
    "\n",
    "for name in sorted(name): # the sorted function will sort the list\n",
    "    print(f\"hello,{name}\")\n"
   ]
  },
  {
   "cell_type": "markdown",
   "id": "393b8157",
   "metadata": {},
   "source": [
    "- Now we will learn about files"
   ]
  },
  {
   "cell_type": "markdown",
   "id": "3f427fc3",
   "metadata": {},
   "source": [
    "## File I/O"
   ]
  },
  {
   "cell_type": "markdown",
   "id": "9b297688",
   "metadata": {},
   "source": [
    "#### Writing in a file"
   ]
  },
  {
   "cell_type": "code",
   "execution_count": null,
   "id": "8392ee9b",
   "metadata": {},
   "outputs": [],
   "source": [
    "# now we will save the values into the files\n",
    "# so with the help of open to open the folder \n",
    "# we can read and write from the file\n",
    "\n",
    "name = input(\"what's your name\")\n",
    "file = open(\"names.txt\",\"w\") # open returns the file handle & w allows us to write\n",
    "file.write(name)\n",
    "file.close()\n",
    " "
   ]
  },
  {
   "cell_type": "markdown",
   "id": "a466fc08",
   "metadata": {},
   "source": [
    "- so the aboce code will create new file again and again and removes the previously entered data"
   ]
  },
  {
   "cell_type": "markdown",
   "id": "f6506aab",
   "metadata": {},
   "source": [
    "-  but now we will use append to add new value so that they will not be overwritten again and again"
   ]
  },
  {
   "cell_type": "code",
   "execution_count": null,
   "id": "dd600c13",
   "metadata": {},
   "outputs": [],
   "source": [
    "name = input(\"what is your name?\")\n",
    "file = open(\"names.txt\",\"a\")\n",
    "file.write(f\"{name}\\n\")\n",
    "file.close()"
   ]
  },
  {
   "cell_type": "markdown",
   "id": "6dc2c41d",
   "metadata": {},
   "source": [
    "- we will use a new keyword called 'with'"
   ]
  },
  {
   "cell_type": "code",
   "execution_count": null,
   "id": "3fc9f47d",
   "metadata": {},
   "outputs": [],
   "source": [
    "name = input(\"what's your name?\")\n",
    "\n",
    "with open(\"names.txt\",\"a\") as file:\n",
    "    file.write(f\"{name}\\n\")"
   ]
  },
  {
   "cell_type": "markdown",
   "id": "fa634cda",
   "metadata": {},
   "source": [
    "- this 'with' will autamatically closes the file after the 4th line is completed \n",
    "- we will use this when we forget to close the file"
   ]
  },
  {
   "cell_type": "markdown",
   "id": "42ea1acd",
   "metadata": {},
   "source": [
    "#### Now we will read a File"
   ]
  },
  {
   "cell_type": "code",
   "execution_count": null,
   "id": "c3210624",
   "metadata": {},
   "outputs": [],
   "source": [
    "with open(\"names.txt\",\"r\") as file:\n",
    "    lines = file.readlines()\n",
    "\n",
    "for line in lines:\n",
    "    print(\"hello,\", line.rstrip())"
   ]
  },
  {
   "cell_type": "markdown",
   "id": "fdc0bfae",
   "metadata": {},
   "source": [
    "- we can do this in a more cleaner way"
   ]
  },
  {
   "cell_type": "code",
   "execution_count": null,
   "id": "882ce14b",
   "metadata": {},
   "outputs": [],
   "source": [
    "with open(\"names.txt\",\"r\") as file:\n",
    "    for line in file:\n",
    "        print(\"hello,\", line.rstrip())"
   ]
  },
  {
   "cell_type": "markdown",
   "id": "69a745ad",
   "metadata": {},
   "source": [
    "- now using list\n"
   ]
  },
  {
   "cell_type": "code",
   "execution_count": null,
   "id": "c48915f2",
   "metadata": {},
   "outputs": [],
   "source": [
    "names = []\n",
    "\n",
    "with open(\"names.txt\") as file:\n",
    "    for line in file:\n",
    "        names.append(line.rstrip()) #strips from end of the line\n",
    "\n",
    "for name in sorted(names):\n",
    "    print(f\"hello,{name}\")"
   ]
  },
  {
   "cell_type": "markdown",
   "id": "edacdef6",
   "metadata": {},
   "source": [
    "- now we will write a python code that reads a csv file (comma seperated values)"
   ]
  },
  {
   "cell_type": "markdown",
   "id": "de75590c",
   "metadata": {},
   "source": [
    "- now we will read this file\n",
    "- King,castle\n",
    "- Kong,jungle\n",
    "- Ron,US\n",
    "- Draco,Africa"
   ]
  },
  {
   "cell_type": "code",
   "execution_count": 2,
   "id": "e763cce2",
   "metadata": {},
   "outputs": [
    {
     "name": "stdout",
     "output_type": "stream",
     "text": [
      "King is in castle\n",
      "Kong is in jungle\n",
      "Ron is in US\n",
      "Draco is in Africa\n"
     ]
    }
   ],
   "source": [
    "with open(\"student.csv\") as file:\n",
    "    for line in file:\n",
    "        row = line.rstrip().split(\",\")\n",
    "        print(f\"{row[0]} is in {row[1]}\")"
   ]
  },
  {
   "cell_type": "code",
   "execution_count": 3,
   "id": "cd6b16d7",
   "metadata": {},
   "outputs": [
    {
     "name": "stdout",
     "output_type": "stream",
     "text": [
      "Draco is in Africa\n",
      "King is in castle\n",
      "Kong is in jungle\n",
      "Ron is in US\n"
     ]
    }
   ],
   "source": [
    "students = []\n",
    "with open(\"student.csv\") as file:\n",
    "    for line in file:\n",
    "        name, house = line.rstrip().split(\",\")\n",
    "        students.append(f\"{name} is in {house}\")\n",
    "\n",
    "for student in sorted(students):\n",
    "    print(student)"
   ]
  },
  {
   "cell_type": "markdown",
   "id": "cfd861b8",
   "metadata": {},
   "source": [
    "- we can do this using dictionary "
   ]
  },
  {
   "cell_type": "code",
   "execution_count": 5,
   "id": "dc5ad834",
   "metadata": {},
   "outputs": [
    {
     "name": "stdout",
     "output_type": "stream",
     "text": [
      "King is in castle\n",
      "Kong is in jungle\n",
      "Ron is in US\n",
      "Draco is in Africa\n"
     ]
    }
   ],
   "source": [
    "students = []\n",
    "\n",
    "with open(\"student.csv\") as file:\n",
    "    for line in file:\n",
    "        name,house = line.rstrip().split(\",\")\n",
    "        student = {}\n",
    "        student[\"name\"] = name\n",
    "        student[\"house\"] = house\n",
    "        students.append(student)\n",
    "\n",
    "for student in students:\n",
    "    print(f\"{student['name']} is in {student['house']}\")\n"
   ]
  },
  {
   "cell_type": "markdown",
   "id": "7e181c2e",
   "metadata": {},
   "source": [
    "- we cannot use sort function here \n",
    "- but we can sort based on the key or by the key value"
   ]
  },
  {
   "cell_type": "code",
   "execution_count": 6,
   "id": "5f76feef",
   "metadata": {},
   "outputs": [
    {
     "name": "stdout",
     "output_type": "stream",
     "text": [
      "Draco is in Africa\n",
      "King is in castle\n",
      "Kong is in jungle\n",
      "Ron is in US\n"
     ]
    }
   ],
   "source": [
    "students = []\n",
    "\n",
    "with open(\"student.csv\") as file:\n",
    "    for line in file:\n",
    "        name,house = line.rstrip().split(\",\")\n",
    "        student = {\"name\":name,\"house\":house}\n",
    "        students.append(student)\n",
    "\n",
    "def get_name(student):\n",
    "    return student[\"name\"]\n",
    "\n",
    "for student in sorted(students,key=get_name):\n",
    "    print(f\"{student['name']} is in {student['house']}\")\n"
   ]
  },
  {
   "cell_type": "markdown",
   "id": "a2ac397e",
   "metadata": {},
   "source": [
    "- if we want to sort based on thier house we can do it like this:"
   ]
  },
  {
   "cell_type": "code",
   "execution_count": 9,
   "id": "2024247d",
   "metadata": {},
   "outputs": [
    {
     "name": "stdout",
     "output_type": "stream",
     "text": [
      "Draco is in Africa\n",
      "Ron is in US\n",
      "King is in castle\n",
      "Kong is in jungle\n"
     ]
    }
   ],
   "source": [
    "students = []\n",
    "\n",
    "with open(\"student.csv\") as file:\n",
    "    for line in file:\n",
    "        name,house = line.rstrip().split(\",\")\n",
    "        student = {\"name\":name,\"house\":house}\n",
    "        students.append(student)\n",
    "\n",
    "def get_house(student):\n",
    "    return student[\"house\"]\n",
    "\n",
    "for student in sorted(students,key=get_house):\n",
    "    print(f\"{student['name']} is in {student['house']}\")\n"
   ]
  },
  {
   "cell_type": "markdown",
   "id": "9ee15af2",
   "metadata": {},
   "source": [
    "#### Lamda Function"
   ]
  },
  {
   "cell_type": "code",
   "execution_count": 10,
   "id": "e1f0510c",
   "metadata": {},
   "outputs": [
    {
     "name": "stdout",
     "output_type": "stream",
     "text": [
      "Draco is in Africa\n",
      "King is in castle\n",
      "Kong is in jungle\n",
      "Ron is in US\n"
     ]
    }
   ],
   "source": [
    "students = []\n",
    "\n",
    "with open(\"student.csv\") as file:\n",
    "    for line in file:\n",
    "        name,house = line.rstrip().split(\",\")\n",
    "        student = {\"name\":name,\"house\":house}\n",
    "        students.append(student)\n",
    "\n",
    "for student in sorted(students,key=lambda student: student[\"name\"]):\n",
    "    print(f\"{student['name']} is in {student['house']}\")\n"
   ]
  },
  {
   "cell_type": "markdown",
   "id": "d90f6bc3",
   "metadata": {},
   "source": [
    "### CSV Module"
   ]
  },
  {
   "cell_type": "code",
   "execution_count": null,
   "id": "394fab5a",
   "metadata": {},
   "outputs": [],
   "source": [
    "import csv\n",
    "student = []\n",
    "with open(\"student.csv\") as file:\n",
    "    reader = csv.reader(file)\n",
    "    for row in reader:\n",
    "        students.append({\"name\": row[0],\"house\":row[1]})\n",
    "\n",
    "for student in sorted(students,key=lambda student: student[\"name\"]):\n",
    "    print(f\"{student['name'] }is from {student['house']}\")\n"
   ]
  },
  {
   "cell_type": "code",
   "execution_count": null,
   "id": "13506f20",
   "metadata": {},
   "outputs": [],
   "source": [
    "import csv\n",
    "student = []\n",
    "with open(\"student.csv\") as file:\n",
    "    reader = csv.reader(file)\n",
    "    for name,house in reader:\n",
    "        students.append({\"name\": name,\"house\":house})\n",
    "\n",
    "for student in sorted(students,key=lambda student: student[\"name\"]):\n",
    "    print(f\"{student['name'] }is from {student['house']}\")\n"
   ]
  },
  {
   "cell_type": "markdown",
   "id": "0907095a",
   "metadata": {},
   "source": [
    "- if we read the line of text not a list of columns but as a dictionary"
   ]
  },
  {
   "cell_type": "code",
   "execution_count": null,
   "id": "9c01890b",
   "metadata": {},
   "outputs": [],
   "source": [
    "import csv\n",
    "student = []\n",
    "with open(\"student.csv\") as file:\n",
    "    reader = csv.DictReader(file)\n",
    "    for row in reader:\n",
    "        students.append({\"name\": row['name'],\"house\":row['house']})\n",
    "\n",
    "for student in sorted(students,key=lambda student: student[\"name\"]):\n",
    "    print(f\"{student['name'] }is from {student['house']}\")\n"
   ]
  },
  {
   "cell_type": "markdown",
   "id": "79d0c78d",
   "metadata": {},
   "source": [
    "- we can change the way the dictionary reads by writing the format on the first line of the code"
   ]
  },
  {
   "cell_type": "markdown",
   "id": "18e1cf22",
   "metadata": {},
   "source": [
    "- for example : \n",
    "- home name \n",
    "- or\n",
    "- home name home"
   ]
  },
  {
   "cell_type": "code",
   "execution_count": 31,
   "id": "210e6099",
   "metadata": {},
   "outputs": [],
   "source": [
    "import csv \n",
    "name = input(\"what's your name? \")\n",
    "home = input(\"where's your home? \")\n",
    "\n",
    "with open(\"students.csv\",\"a\") as file:\n",
    "    writer = csv.writer(file)\n",
    "    writer.writerow(\"[name,home]\")"
   ]
  },
  {
   "cell_type": "markdown",
   "id": "5c71919f",
   "metadata": {},
   "source": [
    "- we will now use csv Dictwriter"
   ]
  },
  {
   "cell_type": "code",
   "execution_count": 32,
   "id": "94a6c40b",
   "metadata": {},
   "outputs": [],
   "source": [
    "import csv \n",
    "name = input(\"what's your name? \")\n",
    "home = input(\"where's your home? \")\n",
    "\n",
    "with open(\"students.csv\",\"a\") as file:\n",
    "    writer = csv.DictWriter(file,fieldnames=[\"name\",\"home\"])\n",
    "    writer.writerow({'name':name, 'home': home})"
   ]
  },
  {
   "cell_type": "markdown",
   "id": "4a77e49c",
   "metadata": {},
   "source": [
    "- popular library called 'pil' can work on image files"
   ]
  },
  {
   "cell_type": "code",
   "execution_count": null,
   "id": "42b34fe3",
   "metadata": {},
   "outputs": [],
   "source": [
    "import sys\n",
    "\n",
    "from PIL import Image\n",
    "\n",
    "images = []\n",
    "\n",
    "for arg in sys.argv[1:]:\n",
    "    image = Image.open(arg)     \n",
    "    images.append(image)\n",
    "\n",
    "images[0].save(\n",
    "    \"new.gif\",save_all= True,append_images=[images[1]],duration=200,loop=0\n",
    ")\n"
   ]
  }
 ],
 "metadata": {
  "kernelspec": {
   "display_name": "Python 3",
   "language": "python",
   "name": "python3"
  },
  "language_info": {
   "codemirror_mode": {
    "name": "ipython",
    "version": 3
   },
   "file_extension": ".py",
   "mimetype": "text/x-python",
   "name": "python",
   "nbconvert_exporter": "python",
   "pygments_lexer": "ipython3",
   "version": "3.11.9"
  }
 },
 "nbformat": 4,
 "nbformat_minor": 5
}
