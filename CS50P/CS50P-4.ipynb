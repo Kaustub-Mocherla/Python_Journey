{
 "cells": [
  {
   "cell_type": "markdown",
   "id": "bfff6c03",
   "metadata": {},
   "source": [
    "# CS50P - Lecture 4\n"
   ]
  },
  {
   "cell_type": "markdown",
   "id": "69b6dfe7",
   "metadata": {},
   "source": [
    "## Modules"
   ]
  },
  {
   "cell_type": "markdown",
   "id": "e882285d",
   "metadata": {},
   "source": [
    "- There are many modules \n",
    "- To use the module we should import it by using the 'import' keyword"
   ]
  },
  {
   "cell_type": "code",
   "execution_count": 7,
   "id": "511fa772",
   "metadata": {},
   "outputs": [
    {
     "name": "stdout",
     "output_type": "stream",
     "text": [
      "Heads\n"
     ]
    }
   ],
   "source": [
    "#For Example\n",
    "import random\n",
    "coin = random.choice([\"Heads\",\"Tails\"])\n",
    "print(coin)"
   ]
  },
  {
   "cell_type": "markdown",
   "id": "9da99d9c",
   "metadata": {},
   "source": [
    "- 'from' is akeyword in python will import a particular function for the module, for example :"
   ]
  },
  {
   "cell_type": "code",
   "execution_count": null,
   "id": "3c94ff63",
   "metadata": {},
   "outputs": [
    {
     "name": "stdout",
     "output_type": "stream",
     "text": [
      "Tails\n"
     ]
    }
   ],
   "source": [
    "#For Example\n",
    "from random import choice\n",
    "coin = choice([\"Heads\",\"Tails\"])\n",
    "print(coin)"
   ]
  },
  {
   "cell_type": "markdown",
   "id": "26b23101",
   "metadata": {},
   "source": [
    "- this allows us to scope the name "
   ]
  },
  {
   "cell_type": "code",
   "execution_count": null,
   "id": "0186ad55",
   "metadata": {},
   "outputs": [
    {
     "name": "stdout",
     "output_type": "stream",
     "text": [
      "Random Letter -  5\n",
      "jack\n",
      "queen\n",
      "king\n"
     ]
    }
   ],
   "source": [
    "# Another Example using 'randint'\n",
    "import random\n",
    "\n",
    "n = random.randint(1,10)\n",
    "print(\"Random Letter - \",n)\n",
    "\n",
    "# Using shuffle\n",
    "cards = [\"jack\",\"queen\",\"king\"]\n",
    "random.shuffle(cards)\n",
    "\n",
    "for card in cards:\n",
    "    print(card)\n",
    " "
   ]
  },
  {
   "cell_type": "markdown",
   "id": "6617ed10",
   "metadata": {},
   "source": [
    "### Statistics Module "
   ]
  },
  {
   "cell_type": "code",
   "execution_count": 39,
   "id": "dd818a7c",
   "metadata": {},
   "outputs": [
    {
     "name": "stdout",
     "output_type": "stream",
     "text": [
      "78.33333333333333\n"
     ]
    }
   ],
   "source": [
    "import statistics\n",
    "\n",
    "print(statistics.mean([100,90,45]))"
   ]
  },
  {
   "cell_type": "markdown",
   "id": "3693bfef",
   "metadata": {},
   "source": [
    "### Command-Line Arguments"
   ]
  },
  {
   "cell_type": "markdown",
   "id": "cd830865",
   "metadata": {},
   "source": [
    "- this allows us to give values when the cmd line is excecuted"
   ]
  },
  {
   "cell_type": "markdown",
   "id": "bdeb227f",
   "metadata": {},
   "source": [
    "> sys module - sys.argv"
   ]
  },
  {
   "cell_type": "code",
   "execution_count": 43,
   "id": "4531fe2c",
   "metadata": {},
   "outputs": [
    {
     "name": "stdout",
     "output_type": "stream",
     "text": [
      "Hello, my name is --f=c:\\Users\\mckau\\AppData\\Roaming\\jupyter\\runtime\\kernel-v3c5eaa5ab3c1548a9f10464a9f0939cfcb47c046b.json\n",
      "File Name is -  C:\\Users\\mckau\\AppData\\Local\\Packages\\PythonSoftwareFoundation.Python.3.11_qbz5n2kfra8p0\\LocalCache\\local-packages\\Python311\\site-packages\\ipykernel_launcher.py\n"
     ]
    }
   ],
   "source": [
    "from sys import argv\n",
    "#Texted typed in the cmd line\n",
    "print(\"Hello, my name is\",argv[1])\n",
    "# File name is by using argv[0]\n",
    "print(\"File Name is - \",argv[0])"
   ]
  },
  {
   "cell_type": "markdown",
   "id": "1005aebe",
   "metadata": {},
   "source": [
    "- argv[0] conatins the name of the program \n",
    "- argv[1] will give the text that you typed\n",
    "\n",
    "- if the user does not enter the value in cmd line then we will get IndeError\n",
    "\n",
    "- we can use sys.exit to exit from the terminal for example :"
   ]
  },
  {
   "cell_type": "code",
   "execution_count": 50,
   "id": "e3bcce83",
   "metadata": {},
   "outputs": [
    {
     "name": "stdout",
     "output_type": "stream",
     "text": [
      "hello my name is  --f=c:\\Users\\mckau\\AppData\\Roaming\\jupyter\\runtime\\kernel-v3c5eaa5ab3c1548a9f10464a9f0939cfcb47c046b.json\n"
     ]
    }
   ],
   "source": [
    "import sys\n",
    "if len(sys.argv) < 2:\n",
    "    sys.exit(\"To few arguments\")\n",
    "elif len(sys.argv) > 2:\n",
    "    sys.exit(\"To many arguments\")\n",
    "\n",
    "print(\"hello my name is \",sys.argv[1])"
   ]
  },
  {
   "cell_type": "markdown",
   "id": "c5033235",
   "metadata": {},
   "source": [
    "## Packages\n",
    "- packages can be installed from pypi\n",
    "- python has a package manager 'pip' allows you to install libraries \n",
    "- package is third party libraries that are implemented by other people"
   ]
  },
  {
   "cell_type": "markdown",
   "id": "e97974fb",
   "metadata": {},
   "source": [
    "### API's \n",
    "- Application programming interface\n",
    "- a mechanisim where i can access data from another applications's server"
   ]
  },
  {
   "cell_type": "code",
   "execution_count": null,
   "id": "38930916",
   "metadata": {},
   "outputs": [],
   "source": [
    "import requests\n",
    "import sys\n",
    "\n",
    "if len(sys.argv) != 2:\n",
    "    sys.exit()\n",
    "response = requests.get(\"https://itunes.apple.com/search?entity=song&limit=1&term= weezer\" + sys.argv[1])\n",
    "print(json.dumps(response.json(),indent=2))"
   ]
  },
  {
   "cell_type": "markdown",
   "id": "dfd586fa",
   "metadata": {},
   "source": [
    "## Custom Library"
   ]
  },
  {
   "cell_type": "code",
   "execution_count": 66,
   "id": "d5c988fc",
   "metadata": {},
   "outputs": [
    {
     "name": "stdout",
     "output_type": "stream",
     "text": [
      "hello,world\n",
      "goodbye world\n"
     ]
    }
   ],
   "source": [
    "def main():\n",
    "    hello('world')\n",
    "    goodbye('world')\n",
    "\n",
    "def hello(name):\n",
    "    print(f\"hello,{name}\")\n",
    "\n",
    "def goodbye(name):\n",
    "    print(f\"goodbye {name}\")\n",
    "\n",
    "if __name__ == \"__main__\":\n",
    "    main()\n",
    "\n"
   ]
  },
  {
   "cell_type": "markdown",
   "id": "1eb58612",
   "metadata": {},
   "source": [
    "> import sys\n",
    ">\n",
    "> from saying import hello\n",
    ">\n",
    ">if len(sys.argv) == 2:\n",
    "    hello(sys.argv[1])"
   ]
  }
 ],
 "metadata": {
  "kernelspec": {
   "display_name": "Python 3",
   "language": "python",
   "name": "python3"
  },
  "language_info": {
   "codemirror_mode": {
    "name": "ipython",
    "version": 3
   },
   "file_extension": ".py",
   "mimetype": "text/x-python",
   "name": "python",
   "nbconvert_exporter": "python",
   "pygments_lexer": "ipython3",
   "version": "3.11.9"
  }
 },
 "nbformat": 4,
 "nbformat_minor": 5
}
