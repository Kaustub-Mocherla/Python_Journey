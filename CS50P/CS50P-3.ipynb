{
 "cells": [
  {
   "cell_type": "markdown",
   "id": "442be66a",
   "metadata": {},
   "source": [
    "# CS50P - Lecture 3"
   ]
  },
  {
   "cell_type": "markdown",
   "id": "d5b49878",
   "metadata": {},
   "source": [
    "### Exceptions\n"
   ]
  },
  {
   "cell_type": "markdown",
   "id": "52152b09",
   "metadata": {},
   "source": [
    "1. ValueError"
   ]
  },
  {
   "cell_type": "code",
   "execution_count": 1,
   "id": "e289075f",
   "metadata": {},
   "outputs": [
    {
     "ename": "ValueError",
     "evalue": "invalid literal for int() with base 10: 'asdf'",
     "output_type": "error",
     "traceback": [
      "\u001b[1;31m---------------------------------------------------------------------------\u001b[0m",
      "\u001b[1;31mValueError\u001b[0m                                Traceback (most recent call last)",
      "Cell \u001b[1;32mIn[1], line 1\u001b[0m\n\u001b[1;32m----> 1\u001b[0m x \u001b[38;5;241m=\u001b[39m \u001b[38;5;28;43mint\u001b[39;49m\u001b[43m(\u001b[49m\u001b[38;5;28;43minput\u001b[39;49m\u001b[43m(\u001b[49m\u001b[38;5;124;43m\"\u001b[39;49m\u001b[38;5;124;43mWhat is Value of x?\u001b[39;49m\u001b[38;5;124;43m\"\u001b[39;49m\u001b[43m)\u001b[49m\u001b[43m)\u001b[49m\n\u001b[0;32m      2\u001b[0m \u001b[38;5;28mprint\u001b[39m(\u001b[38;5;124mf\u001b[39m\u001b[38;5;124m\"\u001b[39m\u001b[38;5;124mX is \u001b[39m\u001b[38;5;132;01m{\u001b[39;00mx\u001b[38;5;132;01m}\u001b[39;00m\u001b[38;5;124m\"\u001b[39m)\n",
      "\u001b[1;31mValueError\u001b[0m: invalid literal for int() with base 10: 'asdf'"
     ]
    }
   ],
   "source": [
    "x = int(input(\"What is Value of x?\"))\n",
    "print(f\"X is {x}\")"
   ]
  },
  {
   "cell_type": "markdown",
   "id": "803d9de5",
   "metadata": {},
   "source": [
    "- this is value error when we try to type string instead of int()\n",
    "- so we can  fix this problem by telling the user to not print string \n",
    "### OR\n",
    "- we can handle error by catching these exception like this."
   ]
  },
  {
   "cell_type": "code",
   "execution_count": 5,
   "id": "87d23c16",
   "metadata": {},
   "outputs": [
    {
     "name": "stdout",
     "output_type": "stream",
     "text": [
      "X is not a integer\n"
     ]
    }
   ],
   "source": [
    "try:\n",
    "    x = int(input(\"What is Value of x?\"))\n",
    "    print(f\"X is {x}\")\n",
    "except ValueError:\n",
    "   print(\"X is not a integer\")\n",
    " "
   ]
  },
  {
   "cell_type": "markdown",
   "id": "b0ae1548",
   "metadata": {},
   "source": [
    "2. NameError"
   ]
  },
  {
   "cell_type": "code",
   "execution_count": null,
   "id": "64d5d4c6",
   "metadata": {},
   "outputs": [
    {
     "name": "stdout",
     "output_type": "stream",
     "text": [
      "X is not a integer\n"
     ]
    },
    {
     "ename": "NameError",
     "evalue": "name 'x' is not defined",
     "output_type": "error",
     "traceback": [
      "\u001b[1;31m---------------------------------------------------------------------------\u001b[0m",
      "\u001b[1;31mNameError\u001b[0m                                 Traceback (most recent call last)",
      "Cell \u001b[1;32mIn[1], line 6\u001b[0m\n\u001b[0;32m      3\u001b[0m \u001b[38;5;28;01mexcept\u001b[39;00m \u001b[38;5;167;01mValueError\u001b[39;00m:\n\u001b[0;32m      4\u001b[0m    \u001b[38;5;28mprint\u001b[39m(\u001b[38;5;124m\"\u001b[39m\u001b[38;5;124mX is not a integer\u001b[39m\u001b[38;5;124m\"\u001b[39m)\n\u001b[1;32m----> 6\u001b[0m \u001b[38;5;28mprint\u001b[39m(\u001b[38;5;124mf\u001b[39m\u001b[38;5;124m\"\u001b[39m\u001b[38;5;124mX is \u001b[39m\u001b[38;5;132;01m{\u001b[39;00m\u001b[43mx\u001b[49m\u001b[38;5;132;01m}\u001b[39;00m\u001b[38;5;124m\"\u001b[39m)\n",
      "\u001b[1;31mNameError\u001b[0m: name 'x' is not defined"
     ]
    }
   ],
   "source": [
    "try:\n",
    "    x = int(input(\"What is Value of x?\"))\n",
    "except ValueError:\n",
    "   print(\"X is not a integer\")\n",
    "\n",
    "print(f\"X is {x}\")"
   ]
  },
  {
   "cell_type": "markdown",
   "id": "6002ec4c",
   "metadata": {},
   "source": [
    "- so we use 'else' when we want to excute the code when the exception is handled"
   ]
  },
  {
   "cell_type": "code",
   "execution_count": 3,
   "id": "fe68c4d4",
   "metadata": {},
   "outputs": [
    {
     "name": "stdout",
     "output_type": "stream",
     "text": [
      "X is 50\n"
     ]
    }
   ],
   "source": [
    "try:\n",
    "    x = int(input(\"What is Value of x?\"))\n",
    "except ValueError:\n",
    "   print(\"X is not a integer\")\n",
    "else:\n",
    "    print(f\"X is {x}\")"
   ]
  },
  {
   "cell_type": "markdown",
   "id": "5b0c946d",
   "metadata": {},
   "source": [
    "### Repromting,break"
   ]
  },
  {
   "cell_type": "markdown",
   "id": "af3455f5",
   "metadata": {},
   "source": [
    "- what this does is it will continue until the correct value is entered"
   ]
  },
  {
   "cell_type": "code",
   "execution_count": 4,
   "id": "ee0b9938",
   "metadata": {},
   "outputs": [
    {
     "name": "stdout",
     "output_type": "stream",
     "text": [
      "X is not a integer\n",
      "X is 50\n"
     ]
    }
   ],
   "source": [
    "while True:\n",
    "    try:\n",
    "        x = int(input(\"What is Value of x?\"))\n",
    "    except ValueError:\n",
    "        print(\"X is not a integer\")\n",
    "    else:\n",
    "        break\n",
    "\n",
    "print(f\"X is {x}\")"
   ]
  },
  {
   "cell_type": "markdown",
   "id": "cc861ae1",
   "metadata": {},
   "source": [
    "- so that how we do, but we want to execute the code if or not the exception is handled \n",
    "- we use 'finally' key word , here in python we use 'final' keyword"
   ]
  },
  {
   "cell_type": "code",
   "execution_count": 7,
   "id": "50eb5166",
   "metadata": {},
   "outputs": [
    {
     "name": "stdout",
     "output_type": "stream",
     "text": [
      "X is not a integer\n",
      "finally block\n",
      "X is 50\n",
      "finally block\n"
     ]
    }
   ],
   "source": [
    "while True:\n",
    "    try:\n",
    "        x = int(input(\"What is Value of x?\"))\n",
    "        print(f\"X is {x}\")\n",
    "    except ValueError:\n",
    "        print(\"X is not a integer\")\n",
    "    else:\n",
    "        break\n",
    "    finally:\n",
    "        print(\"finally block\")"
   ]
  },
  {
   "cell_type": "markdown",
   "id": "d38795f1",
   "metadata": {},
   "source": [
    "- we can use 'pass' to just ignore the exception"
   ]
  },
  {
   "cell_type": "code",
   "execution_count": null,
   "id": "b82fca41",
   "metadata": {},
   "outputs": [],
   "source": [
    "while True:\n",
    "    try:\n",
    "        x = int(input(\"What is the value of X ?\"))\n",
    "        print(f\"x is {x}\")\n",
    "    except ValueError:\n",
    "        pass\n",
    "    else:\n",
    "        break"
   ]
  }
 ],
 "metadata": {
  "kernelspec": {
   "display_name": "Python 3",
   "language": "python",
   "name": "python3"
  },
  "language_info": {
   "codemirror_mode": {
    "name": "ipython",
    "version": 3
   },
   "file_extension": ".py",
   "mimetype": "text/x-python",
   "name": "python",
   "nbconvert_exporter": "python",
   "pygments_lexer": "ipython3",
   "version": "3.11.9"
  }
 },
 "nbformat": 4,
 "nbformat_minor": 5
}
