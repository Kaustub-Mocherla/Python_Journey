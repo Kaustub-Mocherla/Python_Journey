{
 "cells": [
  {
   "cell_type": "markdown",
   "id": "3db69042",
   "metadata": {},
   "source": [
    "# CS50P - Lecture 5"
   ]
  },
  {
   "cell_type": "markdown",
   "id": "d60e7d64",
   "metadata": {},
   "source": [
    "## Tests"
   ]
  },
  {
   "cell_type": "markdown",
   "id": "f60b8111",
   "metadata": {},
   "source": [
    "### assert \n",
    "- allows us to see some kind pf error on the screen if it is false"
   ]
  },
  {
   "cell_type": "code",
   "execution_count": 9,
   "id": "072189af",
   "metadata": {},
   "outputs": [
    {
     "name": "stdout",
     "output_type": "stream",
     "text": [
      "12\n"
     ]
    }
   ],
   "source": [
    "def main():\n",
    "    x = int(input(\"What is the value of X ?\"))\n",
    "    print(square(x))\n",
    "    \n",
    "def square(n):\n",
    "   return n+n\n",
    "\n",
    "if __name__ == \"__main__\":\n",
    "   main()"
   ]
  },
  {
   "cell_type": "code",
   "execution_count": 10,
   "id": "b9bdb098",
   "metadata": {},
   "outputs": [
    {
     "name": "stdout",
     "output_type": "stream",
     "text": [
      "3 square was not 9\n"
     ]
    }
   ],
   "source": [
    "\n",
    "\n",
    "def main():\n",
    "    test_square()\n",
    "\n",
    "def test_square():\n",
    "    if square(2) != 4:\n",
    "        print(\"2 squared was not 4\")\n",
    "    if square(3) != 9:\n",
    "        print(\"3 square was not 9\")\n",
    "    else:\n",
    "        print(\"test successfull\")\n",
    "\n",
    "if __name__ == \"__main__\":\n",
    "    main()"
   ]
  },
  {
   "cell_type": "markdown",
   "id": "a50222e1",
   "metadata": {},
   "source": [
    "- so here we use assert here:\n"
   ]
  },
  {
   "cell_type": "code",
   "execution_count": 12,
   "id": "f3f7d477",
   "metadata": {},
   "outputs": [
    {
     "name": "stdout",
     "output_type": "stream",
     "text": [
      "3 squared was not 9\n"
     ]
    }
   ],
   "source": [
    "def main():\n",
    "    test_square()\n",
    "\n",
    "def test_square():\n",
    "    try:\n",
    "     assert square(2) == 4\n",
    "    except AssertionError:\n",
    "     print(\"2 squared was not 4\")\n",
    "    try:\n",
    "       assert square(3) == 9\n",
    "    except AssertionError:\n",
    "       print(\"3 squared was not 9\")\n",
    "\n",
    "if __name__ == \"__main__\":\n",
    "    main()"
   ]
  },
  {
   "cell_type": "markdown",
   "id": "9e15f297",
   "metadata": {},
   "source": [
    "- there are libraries that help in unit testing such as 'pytest'"
   ]
  },
  {
   "cell_type": "markdown",
   "id": "06034598",
   "metadata": {},
   "source": [
    "- to use pytest write 'pytest test_calculator'"
   ]
  },
  {
   "cell_type": "markdown",
   "id": "62451ae3",
   "metadata": {},
   "source": [
    "- there is funtion in pytest that raises exceptions"
   ]
  },
  {
   "cell_type": "code",
   "execution_count": 15,
   "id": "3f217afb",
   "metadata": {},
   "outputs": [],
   "source": [
    "import pytest\n",
    "\n",
    "\n",
    "def test_positive():\n",
    "    assert square(2) == 4\n",
    "    assert square(3) == 9\n",
    "    assert square(4) == 16\n",
    "\n",
    "def test_zero():\n",
    "    assert square(0) == 0\n",
    "\n",
    "def test_negative():\n",
    "    assert square(-2) == 4\n",
    "    assert square(-3) == 9\n",
    "\n",
    "def test_str():\n",
    "    with pytest.raises(TypeError):\n",
    "        square(\"cat\")\n",
    " "
   ]
  },
  {
   "cell_type": "markdown",
   "id": "6c4bb013",
   "metadata": {},
   "source": [
    "#### We can test it for strings"
   ]
  },
  {
   "cell_type": "code",
   "execution_count": 16,
   "id": "f2de1817",
   "metadata": {},
   "outputs": [
    {
     "name": "stdout",
     "output_type": "stream",
     "text": [
      "hello,king\n"
     ]
    }
   ],
   "source": [
    "#hello.py\n",
    "def main():\n",
    "    name = input(\"Enter your name\")\n",
    "    print(hello(name))\n",
    "\n",
    "def hello(to=\"world\"):\n",
    "    return f\"hello,{to}\"\n",
    "\n",
    "if __name__ == \"__main__\":\n",
    "    main()"
   ]
  },
  {
   "cell_type": "code",
   "execution_count": null,
   "id": "9dd2c78d",
   "metadata": {},
   "outputs": [],
   "source": [
    "from hello import hello\n",
    "\n",
    "def test_default():\n",
    "    assert hello() == \"hello,world\"\n",
    "\n",
    "def test_argument():\n",
    "    assert hello('king') == 'hello,king'"
   ]
  },
  {
   "cell_type": "markdown",
   "id": "bbdc8fb6",
   "metadata": {},
   "source": [
    "- tests should be nice and simple i,e the test should be short\n",
    "- and a human should be able to confirm that the test is passed"
   ]
  },
  {
   "cell_type": "markdown",
   "id": "f0f02b86",
   "metadata": {},
   "source": [
    "### package - '__init__'"
   ]
  },
  {
   "cell_type": "markdown",
   "id": "f13a5ee7",
   "metadata": {},
   "source": [
    "- this allows the folder to be treated as a module or package by python\n",
    "- for example we will create a folder called test\n",
    "- mkdir test\n",
    "- code test/test_hello.py\n",
    "this will create a folder 'test' and test_hello.py is a file in that forder\n",
    "- create a file called \"__inti__.py\" tells python to treat the folder as a package instead of a module \n",
    "- package is a python module or multiple modules that are organized inside a folder\n",
    "- so __init__ is a visual representation for python so that it treats this folder as a package."
   ]
  }
 ],
 "metadata": {
  "kernelspec": {
   "display_name": "Python 3",
   "language": "python",
   "name": "python3"
  },
  "language_info": {
   "codemirror_mode": {
    "name": "ipython",
    "version": 3
   },
   "file_extension": ".py",
   "mimetype": "text/x-python",
   "name": "python",
   "nbconvert_exporter": "python",
   "pygments_lexer": "ipython3",
   "version": "3.11.9"
  }
 },
 "nbformat": 4,
 "nbformat_minor": 5
}
