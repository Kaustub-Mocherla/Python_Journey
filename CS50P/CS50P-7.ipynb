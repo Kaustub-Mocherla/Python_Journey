{
 "cells": [
  {
   "cell_type": "markdown",
   "id": "bdd901af",
   "metadata": {},
   "source": [
    "# CS50P - Lecture 7"
   ]
  },
  {
   "cell_type": "markdown",
   "id": "ca2ec007",
   "metadata": {},
   "source": [
    "### Regular Expression"
   ]
  },
  {
   "cell_type": "markdown",
   "id": "d9d4bbc7",
   "metadata": {},
   "source": [
    "- using regex we can have the capability to find patterns in the data "
   ]
  },
  {
   "cell_type": "markdown",
   "id": "72c196dd",
   "metadata": {},
   "source": [
    "- before we use regex we will validate without the use of regex"
   ]
  },
  {
   "cell_type": "code",
   "execution_count": 1,
   "id": "1736bee2",
   "metadata": {},
   "outputs": [
    {
     "name": "stdout",
     "output_type": "stream",
     "text": [
      "valid\n"
     ]
    }
   ],
   "source": [
    "email = input(\"What's your email\").strip()\n",
    "if \"@\" in email:\n",
    "    print(\"valid\")\n",
    "else:\n",
    "    print(\"not valid\")"
   ]
  },
  {
   "cell_type": "markdown",
   "id": "ae865304",
   "metadata": {},
   "source": [
    "- but this will accept '@' itself so it will not be able to validate propley i,e our program is buggy"
   ]
  },
  {
   "cell_type": "markdown",
   "id": "a30e1c62",
   "metadata": {},
   "source": [
    "#### re"
   ]
  },
  {
   "cell_type": "markdown",
   "id": "36f6ef94",
   "metadata": {},
   "source": [
    "- there is python library in pyhton that allows us to create patterns that can be used to validate\n",
    "- one of the important function in re is 're.search(pattern,string,flag=0)' "
   ]
  },
  {
   "cell_type": "code",
   "execution_count": 2,
   "id": "e3abf03a",
   "metadata": {},
   "outputs": [
    {
     "name": "stdout",
     "output_type": "stream",
     "text": [
      "valid\n"
     ]
    }
   ],
   "source": [
    "import re \n",
    "\n",
    "email = input(\"what's your email?\").strip()\n",
    "\n",
    "if re.search(\"@\",email):\n",
    "    print(\"valid\")\n",
    "else:\n",
    "    print(\"Invalid\")"
   ]
  },
  {
   "cell_type": "markdown",
   "id": "7d33862c",
   "metadata": {},
   "source": [
    "- lets make a pattern \n",
    "1. ' __.__' - to represent any character except newline\n",
    "2. __*__ - 0 or more repetitions\n",
    "3. __+__ - 1 or more repetition\n",
    "4. __?__ - 0 or 1 repetition\n",
    "5. __{m}__ - m repetition\n",
    "5. __{m,n}__ - m-n repetition"
   ]
  },
  {
   "cell_type": "code",
   "execution_count": 14,
   "id": "89082309",
   "metadata": {},
   "outputs": [
    {
     "name": "stdout",
     "output_type": "stream",
     "text": [
      "Invalid\n"
     ]
    }
   ],
   "source": [
    "import re \n",
    "\n",
    "email = input(\"what's your email?\").strip()\n",
    "\n",
    "if re.search(r\".+@.+\\.edu\",email): # r will tell that it is raw string and passes this al it is\n",
    "    print(\"valid\")\n",
    "else:\n",
    "    print(\"Invalid\")"
   ]
  },
  {
   "cell_type": "markdown",
   "id": "9bd35cc1",
   "metadata": {},
   "source": [
    "- we will use more symbols to be more precise\n",
    "- __^__ - matches the start of the string\n",
    "- __$__ - matches the end of the string or just before the newline at the end of the string"
   ]
  },
  {
   "cell_type": "code",
   "execution_count": 22,
   "id": "6ced0dc0",
   "metadata": {},
   "outputs": [
    {
     "name": "stdout",
     "output_type": "stream",
     "text": [
      "valid\n"
     ]
    }
   ],
   "source": [
    "import re \n",
    "\n",
    "email = input(\"what's your email?\").strip()\n",
    "\n",
    "if re.search(r\"^.+@.+\\.edu$\",email): # r will tell that it is raw string and passes this al it is\n",
    "    print(\"valid\")\n",
    "else:\n",
    "    print(\"Invalid\")"
   ]
  }
 ],
 "metadata": {
  "kernelspec": {
   "display_name": "Python 3",
   "language": "python",
   "name": "python3"
  },
  "language_info": {
   "codemirror_mode": {
    "name": "ipython",
    "version": 3
   },
   "file_extension": ".py",
   "mimetype": "text/x-python",
   "name": "python",
   "nbconvert_exporter": "python",
   "pygments_lexer": "ipython3",
   "version": "3.11.9"
  }
 },
 "nbformat": 4,
 "nbformat_minor": 5
}
