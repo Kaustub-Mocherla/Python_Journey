{
 "cells": [
  {
   "cell_type": "markdown",
   "id": "bdd901af",
   "metadata": {},
   "source": [
    "# CS50P - Lecture 7"
   ]
  },
  {
   "cell_type": "markdown",
   "id": "ca2ec007",
   "metadata": {},
   "source": [
    "### Regular Expression"
   ]
  },
  {
   "cell_type": "markdown",
   "id": "d9d4bbc7",
   "metadata": {},
   "source": [
    "- using regex we can have the capability to find patterns in the data "
   ]
  },
  {
   "cell_type": "markdown",
   "id": "72c196dd",
   "metadata": {},
   "source": [
    "- before we use regex we will validate without the use of regex"
   ]
  },
  {
   "cell_type": "code",
   "execution_count": 1,
   "id": "1736bee2",
   "metadata": {},
   "outputs": [
    {
     "name": "stdout",
     "output_type": "stream",
     "text": [
      "valid\n"
     ]
    }
   ],
   "source": [
    "email = input(\"What's your email\").strip()\n",
    "if \"@\" in email:\n",
    "    print(\"valid\")\n",
    "else:\n",
    "    print(\"not valid\")"
   ]
  },
  {
   "cell_type": "markdown",
   "id": "ae865304",
   "metadata": {},
   "source": [
    "- but this will accept '@' itself so it will not be able to validate propley i,e our program is buggy"
   ]
  },
  {
   "cell_type": "markdown",
   "id": "a30e1c62",
   "metadata": {},
   "source": [
    "#### re"
   ]
  },
  {
   "cell_type": "markdown",
   "id": "36f6ef94",
   "metadata": {},
   "source": [
    "- there is python library in pyhton that allows us to create patterns that can be used to validate\n",
    "- one of the important function in re is 're.search(pattern,string,flag=0)' "
   ]
  },
  {
   "cell_type": "code",
   "execution_count": 2,
   "id": "e3abf03a",
   "metadata": {},
   "outputs": [
    {
     "name": "stdout",
     "output_type": "stream",
     "text": [
      "valid\n"
     ]
    }
   ],
   "source": [
    "import re \n",
    "\n",
    "email = input(\"what's your email?\").strip()\n",
    "\n",
    "if re.search(\"@\",email):\n",
    "    print(\"valid\")\n",
    "else:\n",
    "    print(\"Invalid\")"
   ]
  },
  {
   "cell_type": "markdown",
   "id": "7d33862c",
   "metadata": {},
   "source": [
    "- lets make a pattern \n",
    "1. ' __.__' - to represent any character except newline\n",
    "2. __*__ - 0 or more repetitions\n",
    "3. __+__ - 1 or more repetition\n",
    "4. __?__ - 0 or 1 repetition\n",
    "5. __{m}__ - m repetition\n",
    "5. __{m,n}__ - m-n repetition"
   ]
  },
  {
   "cell_type": "code",
   "execution_count": 14,
   "id": "89082309",
   "metadata": {},
   "outputs": [
    {
     "name": "stdout",
     "output_type": "stream",
     "text": [
      "Invalid\n"
     ]
    }
   ],
   "source": [
    "import re \n",
    "\n",
    "email = input(\"what's your email?\").strip()\n",
    "\n",
    "if re.search(r\".+@.+\\.edu\",email): # r will tell that it is raw string and passes this al it is\n",
    "    print(\"valid\")\n",
    "else:\n",
    "    print(\"Invalid\")"
   ]
  },
  {
   "cell_type": "markdown",
   "id": "9bd35cc1",
   "metadata": {},
   "source": [
    "- we will use more symbols to be more precise\n",
    "- __^__ - matches the start of the string\n",
    "- __$__ - matches the end of the string or just before the newline at the end of the string"
   ]
  },
  {
   "cell_type": "code",
   "execution_count": 24,
   "id": "6ced0dc0",
   "metadata": {},
   "outputs": [
    {
     "name": "stdout",
     "output_type": "stream",
     "text": [
      "valid\n"
     ]
    }
   ],
   "source": [
    "import re \n",
    "\n",
    "email = input(\"what's your email?\").strip()\n",
    "\n",
    "if re.search(r\"^.+@.+\\.edu$\",email): # r will tell that it is raw string and passes this al it is\n",
    "    print(\"valid\")\n",
    "else:\n",
    "    print(\"Invalid\")"
   ]
  },
  {
   "cell_type": "code",
   "execution_count": null,
   "id": "8faf4796",
   "metadata": {},
   "outputs": [],
   "source": [
    "# we can use the same thing but with another form\n",
    "re.search(r\"^..*@..*\\.edu$\",email)"
   ]
  },
  {
   "cell_type": "markdown",
   "id": "4d98eeaf",
   "metadata": {},
   "source": [
    "- but this will aslo accept mala@@@harward.edu\n",
    "- so we will use an other regular expression \n",
    "- __[]__ - set of characters\n",
    "- __[^]__ - complementing the set i,e we cannot match any character in this"
   ]
  },
  {
   "cell_type": "markdown",
   "id": "86d9c31c",
   "metadata": {},
   "source": [
    "so we will write like this"
   ]
  },
  {
   "cell_type": "code",
   "execution_count": null,
   "id": "5a0dfe94",
   "metadata": {},
   "outputs": [],
   "source": [
    "if re.search(r\"^.[^@]+@[^@]+\\.edu$\",email):\n",
    "    print(\"valid\")\n"
   ]
  },
  {
   "cell_type": "markdown",
   "id": "c93b5d00",
   "metadata": {},
   "source": [
    "- there is a standard of mail id \n",
    "- so we will change the above string again"
   ]
  },
  {
   "cell_type": "code",
   "execution_count": null,
   "id": "bc9318e3",
   "metadata": {},
   "outputs": [],
   "source": [
    "if re.search(r\"^[a-zA-Z0-9_]+@[a-zA-Z0-9_]+\\.edu$\",email):\n",
    "    print(\"valid\")\n"
   ]
  },
  {
   "cell_type": "markdown",
   "id": "148e301b",
   "metadata": {},
   "source": [
    "- now it will be restrictive\n",
    "- but these regular expression are very common patters so we can use\n",
    "the shortcuts in 're' module"
   ]
  },
  {
   "cell_type": "code",
   "execution_count": null,
   "id": "1f0d9dd2",
   "metadata": {},
   "outputs": [],
   "source": [
    "# \\w word character as well as numbes and underscore\n",
    "if re.search(r\"^\\w+@\\w+\\.edu$\",email):\n",
    "    print(\"valid\")\n"
   ]
  },
  {
   "cell_type": "markdown",
   "id": "7deb5561",
   "metadata": {},
   "source": [
    "- so there are more shortcuts but some of the common shortcuts are :\n",
    "1. \\d = decimal digit\n",
    "2. \\D = not a decimal digit\n",
    "3. \\s = whitespace character \n",
    "4. \\S = not a whitespace character\n",
    "5. \\w = word character as well as numeric and underscore\n",
    "6. \\W = not a word character"
   ]
  },
  {
   "cell_type": "code",
   "execution_count": null,
   "id": "2b725991",
   "metadata": {},
   "outputs": [],
   "source": [
    "# if we want to tolerate a list of character we can use (..)\n",
    "# or if we want to use (?:..) non-capturing version\n",
    "# A|B - A or B\n",
    "\n",
    "if re.search(r\"^\\w+@\\w+\\.(com|edu|gov|net)$\",email):\n",
    "    print(\"valid\")\n"
   ]
  },
  {
   "cell_type": "markdown",
   "id": "1187b17f",
   "metadata": {},
   "source": [
    "- but this will not allow kaustub.mocherla@harvard.edu"
   ]
  },
  {
   "cell_type": "markdown",
   "id": "3541b50c",
   "metadata": {},
   "source": [
    "- but this will not work for ASDF@ASDFGH.EDU"
   ]
  },
  {
   "cell_type": "markdown",
   "id": "e442dacc",
   "metadata": {},
   "source": [
    "- SO we can wither change them to lower case by using lower()\n",
    "- or we will use flags in the re.search(pattern,string,flag=0)\n",
    "- so re has few flags\n",
    "- so we will use these flags:\n",
    "1. re.IGNORECASE\n",
    "2. re.MULTILINE\n",
    "3. re.DOTALL"
   ]
  },
  {
   "cell_type": "code",
   "execution_count": null,
   "id": "0da47ba1",
   "metadata": {},
   "outputs": [],
   "source": [
    "if re.search(r\"^\\w+@\\w+\\.edu$\",email,re.IGNORECASE):\n",
    "    print(\"valid\")"
   ]
  },
  {
   "cell_type": "markdown",
   "id": "7f3dd34f",
   "metadata": {},
   "source": [
    "- it will ignore the cases\n",
    "- it will not tolerate email like this : mnvca@zxcvb.aasdfg.edu"
   ]
  },
  {
   "cell_type": "code",
   "execution_count": null,
   "id": "d2a45ce8",
   "metadata": {},
   "outputs": [],
   "source": [
    "if re.search(r\"^\\w+@(\\w+\\.)?\\w+\\.edu$\",email):\n",
    "    print(\"valid\")"
   ]
  },
  {
   "cell_type": "markdown",
   "id": "3b041856",
   "metadata": {},
   "source": [
    "- so we see the regex the browser use \n",
    "- we can use the popular libraries that have defined these regex"
   ]
  },
  {
   "cell_type": "markdown",
   "id": "505cedb7",
   "metadata": {},
   "source": [
    "- there are many funtion in re\n",
    "2. re.fullmatch(pattern,string,flage=0)\n",
    "3. re.match(pattern,string,flage=0)"
   ]
  },
  {
   "cell_type": "markdown",
   "id": "91032b26",
   "metadata": {},
   "source": [
    "- so will reformate the users input "
   ]
  },
  {
   "cell_type": "code",
   "execution_count": 31,
   "id": "41de978b",
   "metadata": {},
   "outputs": [
    {
     "name": "stdout",
     "output_type": "stream",
     "text": [
      "hello,kaustub mocherla\n"
     ]
    }
   ],
   "source": [
    "#format.py\n",
    "import re\n",
    "\n",
    "name = input(\"what's your name? \").strip()\n",
    "matchs = re.search(r\"^(.+), (.+)$\",name)\n",
    "if matchs:\n",
    "    last,first = matchs.groups()\n",
    "    name = f\"{first} {last}\"\n",
    "\n",
    "print(f\"hello,{name}\")\n"
   ]
  },
  {
   "cell_type": "code",
   "execution_count": 32,
   "id": "c35004ca",
   "metadata": {},
   "outputs": [
    {
     "name": "stdout",
     "output_type": "stream",
     "text": [
      "hello,\n"
     ]
    }
   ],
   "source": [
    "#format.py\n",
    "import re\n",
    "\n",
    "name = input(\"what's your name? \").strip()\n",
    "matchs = re.search(r\"^(.+), (.+)$\",name)\n",
    "if matchs:\n",
    "    last = matchs.groups(1)\n",
    "    first = matchs.groups(2)\n",
    "    name = f\"{first} {last}\"\n",
    "\n",
    "print(f\"hello,{name}\")\n"
   ]
  },
  {
   "cell_type": "code",
   "execution_count": 35,
   "id": "6d44cdda",
   "metadata": {},
   "outputs": [
    {
     "name": "stdout",
     "output_type": "stream",
     "text": [
      "hello,kaustub mocherla\n"
     ]
    }
   ],
   "source": [
    "# or we can do this\n",
    "#format.py\n",
    "import re\n",
    "\n",
    "name = input(\"what's your name? \").strip()\n",
    "matchs = re.search(r\"^(.+), (.+)$\",name)\n",
    "if matchs:\n",
    "    name = matchs.group(2) + \" \" + matchs.group(1)\n",
    "\n",
    "print(f\"hello,{name}\")\n"
   ]
  },
  {
   "cell_type": "code",
   "execution_count": null,
   "id": "c2dd8934",
   "metadata": {},
   "outputs": [],
   "source": [
    "# but this does not work for kaustub,mocherla\n",
    "# so we will fix it by doing this \n",
    "matchs = re.search(r\"^(.+), ?(.+)$\",name)"
   ]
  },
  {
   "cell_type": "markdown",
   "id": "3c135a20",
   "metadata": {},
   "source": [
    "- so this will tolerate kaustub,mocherla but if we do this\n",
    "kaustub,   mocherla\n",
    "o/p : hello    kaustub mocherla\n",
    "- so if we use '*' it will clean this up"
   ]
  },
  {
   "cell_type": "code",
   "execution_count": null,
   "id": "3e38e0c6",
   "metadata": {},
   "outputs": [],
   "source": [
    "matchs = re.search(r\"^(.+), *(.+)$\",name)"
   ]
  },
  {
   "cell_type": "markdown",
   "id": "fca031e4",
   "metadata": {},
   "source": [
    "- we can clean this up even more like this:"
   ]
  },
  {
   "cell_type": "code",
   "execution_count": null,
   "id": "0c6e762a",
   "metadata": {},
   "outputs": [],
   "source": [
    "# or we can do this\n",
    "#format.py\n",
    "import re\n",
    "\n",
    "name = input(\"what's your name? \").strip()\n",
    "\n",
    "if matchs:= re.search(r\"^(.+), *(.+)$\",name):\n",
    "    name = matchs.group(2) + \" \" + matchs.group(1)\n",
    "\n",
    "print(f\"hello,{name}\")\n"
   ]
  },
  {
   "cell_type": "markdown",
   "id": "1f631ddf",
   "metadata": {},
   "source": [
    "- it is walrus operator this is a new operator in python \n",
    "it will allow us to assign value from right to left as well as answer boolean conditions"
   ]
  },
  {
   "cell_type": "markdown",
   "id": "12dec82b",
   "metadata": {},
   "source": [
    "- one more problem is extracting data in order to  answer some question"
   ]
  },
  {
   "cell_type": "code",
   "execution_count": 36,
   "id": "d19a4215",
   "metadata": {},
   "outputs": [
    {
     "name": "stdout",
     "output_type": "stream",
     "text": [
      "https://twitter.com/kaustubjmocherla\n"
     ]
    }
   ],
   "source": [
    "# twitter.py\n",
    "\n",
    "url = input(\"URL: \").strip()\n",
    "print(url)"
   ]
  },
  {
   "cell_type": "code",
   "execution_count": 38,
   "id": "76b083ac",
   "metadata": {},
   "outputs": [
    {
     "name": "stdout",
     "output_type": "stream",
     "text": [
      "username: kaustubjmocherla\n"
     ]
    }
   ],
   "source": [
    "# so we just want the user name so as we can see the username will be \n",
    "# at the end of the url in twitter\n",
    "\n",
    "# twitter.py\n",
    "\n",
    "url = input(\"URL: \").strip()\n",
    "\n",
    "username = url.replace(\"https://twitter.com/\",\"\")\n",
    "print(f\"username: {username}\")"
   ]
  },
  {
   "cell_type": "markdown",
   "id": "3dba9df4",
   "metadata": {},
   "source": [
    "- so if we type 'my username is https://twitter.com/kaustubjmocherla' this will o/p : my username is kaustubjmocherla"
   ]
  },
  {
   "cell_type": "code",
   "execution_count": null,
   "id": "84a6d30d",
   "metadata": {},
   "outputs": [],
   "source": [
    "# we will use re.sub a function in regular expression\n",
    "# re.sub(pattern,repl,string,count=0,flags=0)\n",
    "\n",
    "import re\n",
    "\n",
    "url = input(\"URL : \").strip()\n",
    "username = re.sub(r\"^(https?://)?(www.\\)?twitter\\.com/\",\"\",url)\n",
    "print(f\"Username : {username}\")"
   ]
  },
  {
   "cell_type": "code",
   "execution_count": 46,
   "id": "577ee2e2",
   "metadata": {},
   "outputs": [
    {
     "name": "stdout",
     "output_type": "stream",
     "text": [
      "Username : davidjmalan\n"
     ]
    }
   ],
   "source": [
    "import re\n",
    "\n",
    "url = input(\"URL : \").strip()\n",
    "\n",
    "matches = re.search(r\"^https?://(www\\.)?twitter\\.com/(.+)$\",url,re.IGNORECASE)\n",
    "if matches:\n",
    "    print(f\"Username :\",matches.group(2))"
   ]
  },
  {
   "cell_type": "code",
   "execution_count": 47,
   "id": "4a62ede4",
   "metadata": {},
   "outputs": [
    {
     "name": "stdout",
     "output_type": "stream",
     "text": [
      "Username : kaustubjmocherla\n"
     ]
    }
   ],
   "source": [
    "import re\n",
    "\n",
    "url = input(\"URL : \").strip()\n",
    "\n",
    "if matches := re.search(r\"^https?://(?:www\\.)?twitter\\.com/(.+)$\",url,re.IGNORECASE):\n",
    "    print(f\"Username :\",matches.group(1))"
   ]
  },
  {
   "cell_type": "markdown",
   "id": "4bd45bd3",
   "metadata": {},
   "source": [
    "- at last there are two more function for regex:\n",
    "4. re.split(pattern,string,maxsplit=0,flags=0)\n",
    "5. re.findall(pattern,string,flags=0)"
   ]
  }
 ],
 "metadata": {
  "kernelspec": {
   "display_name": "Python 3",
   "language": "python",
   "name": "python3"
  },
  "language_info": {
   "codemirror_mode": {
    "name": "ipython",
    "version": 3
   },
   "file_extension": ".py",
   "mimetype": "text/x-python",
   "name": "python",
   "nbconvert_exporter": "python",
   "pygments_lexer": "ipython3",
   "version": "3.11.9"
  }
 },
 "nbformat": 4,
 "nbformat_minor": 5
}
