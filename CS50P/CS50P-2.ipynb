{
 "cells": [
  {
   "cell_type": "markdown",
   "id": "fbeee51e",
   "metadata": {},
   "source": [
    "# CS50P - Lecture 2"
   ]
  },
  {
   "cell_type": "markdown",
   "id": "4c8fe299",
   "metadata": {},
   "source": [
    "### Loop\n",
    "- Loop continues unti the condition is satisfied"
   ]
  },
  {
   "cell_type": "markdown",
   "id": "63e737fe",
   "metadata": {},
   "source": [
    "1. While"
   ]
  },
  {
   "cell_type": "code",
   "execution_count": null,
   "id": "27fb4c28",
   "metadata": {},
   "outputs": [],
   "source": [
    "while True:\n",
    "    n = int(input(\"What's n?\"))\n",
    "    if n > 0:\n",
    "        break\n"
   ]
  },
  {
   "cell_type": "markdown",
   "id": "e9e1d6bf",
   "metadata": {},
   "source": [
    "2. For"
   ]
  },
  {
   "cell_type": "code",
   "execution_count": null,
   "id": "53c04039",
   "metadata": {},
   "outputs": [],
   "source": [
    "for _ in range(n):\n",
    "    print(\"meow\")"
   ]
  },
  {
   "cell_type": "markdown",
   "id": "62b04db8",
   "metadata": {},
   "source": [
    "### Lists\n",
    "- list contains values with diffrent data types"
   ]
  },
  {
   "cell_type": "code",
   "execution_count": 8,
   "id": "5b25892b",
   "metadata": {},
   "outputs": [],
   "source": [
    "#This is how we write List \n",
    "students = [\"Jim\",\"Kim\",\"Tim\"]"
   ]
  },
  {
   "cell_type": "code",
   "execution_count": null,
   "id": "e0227f67",
   "metadata": {},
   "outputs": [],
   "source": [
    "for student in students:\n",
    "    print(student)"
   ]
  },
  {
   "cell_type": "markdown",
   "id": "0e2a23b4",
   "metadata": {},
   "source": [
    "- to find the lenght of the list we can use 'len' function in python"
   ]
  },
  {
   "cell_type": "code",
   "execution_count": null,
   "id": "9b8c6073",
   "metadata": {},
   "outputs": [],
   "source": [
    "for i in range(len(students)):\n",
    "    print(students[i])"
   ]
  },
  {
   "cell_type": "code",
   "execution_count": null,
   "id": "1badf3af",
   "metadata": {},
   "outputs": [],
   "source": [
    "# we can write it like this also\n",
    "for i in range(len(students)):\n",
    "    print(i+1,students[i])"
   ]
  },
  {
   "cell_type": "markdown",
   "id": "aa7ff75b",
   "metadata": {},
   "source": [
    "### Dict\n",
    "- it is a data-structure in python that allows us to associate one thing to another like : keys = values , Name = address ,etc .."
   ]
  },
  {
   "cell_type": "code",
   "execution_count": null,
   "id": "b41cc5a9",
   "metadata": {},
   "outputs": [],
   "source": [
    "student = [\"Jim\",\"Tim\",\"Kim\"]\n",
    "houses = [\"US\",\"IND\",\"AUS\"]"
   ]
  },
  {
   "cell_type": "markdown",
   "id": "3154e848",
   "metadata": {},
   "source": [
    "- associating with student with the resp house is complicated with list so we use 'dict' in python."
   ]
  },
  {
   "cell_type": "code",
   "execution_count": 14,
   "id": "8c3cc7be",
   "metadata": {},
   "outputs": [
    {
     "name": "stdout",
     "output_type": "stream",
     "text": [
      "US\n"
     ]
    }
   ],
   "source": [
    "students = {\"Jim\":\"US\",\n",
    "            \"Tim\":\"IND\",\n",
    "            \"Kim\":\"AUS\"}\n",
    "print(students[\"Jim\"]) #This will go to 'Jim'[key] will give the value associated with it 'US'[value]\n"
   ]
  },
  {
   "cell_type": "code",
   "execution_count": null,
   "id": "e5b0bf06",
   "metadata": {},
   "outputs": [],
   "source": [
    "for student in students:\n",
    "    print(student,students[student])\n",
    "print(students)#this will print dictionary with thier keys & values"
   ]
  },
  {
   "cell_type": "markdown",
   "id": "4ad898ad",
   "metadata": {},
   "source": [
    "- Dictionary with List"
   ]
  },
  {
   "cell_type": "code",
   "execution_count": 23,
   "id": "cd12d6dc",
   "metadata": {},
   "outputs": [
    {
     "name": "stdout",
     "output_type": "stream",
     "text": [
      "Tim : US : 12\n",
      "Jim : None : 10\n",
      "Kim : AUS : 13\n",
      "Him : IND : 11\n"
     ]
    }
   ],
   "source": [
    "students = [\n",
    "    {\"name\":\"Tim\", \"house\":\"US\",\"Age\":12},\n",
    "    {\"name\":\"Jim\", \"house\":None,\"Age\":10},\n",
    "    {\"name\":\"Kim\", \"house\":\"AUS\",\"Age\":13},\n",
    "    {\"name\":\"Him\", \"house\":\"IND\",\"Age\":11},\n",
    "]\n",
    "\n",
    "for student in students:\n",
    "    print(student[\"name\"],student[\"house\"],student[\"Age\"],sep=\" : \")"
   ]
  },
  {
   "cell_type": "markdown",
   "id": "5898fab2",
   "metadata": {},
   "source": [
    "### Nested Loops"
   ]
  },
  {
   "cell_type": "markdown",
   "id": "1f7701c2",
   "metadata": {},
   "source": [
    "- loop inside another loop"
   ]
  },
  {
   "cell_type": "code",
   "execution_count": null,
   "id": "989bac99",
   "metadata": {},
   "outputs": [],
   "source": [
    "def sq(size):\n",
    "    for i in range(size):\n",
    "        for j in range(size):\n",
    "            print(\"#\",end=\"\")\n",
    "        print()\n",
    "        \n",
    "    #For each brick in row\n",
    "sq(5)"
   ]
  }
 ],
 "metadata": {
  "kernelspec": {
   "display_name": "Python 3",
   "language": "python",
   "name": "python3"
  },
  "language_info": {
   "codemirror_mode": {
    "name": "ipython",
    "version": 3
   },
   "file_extension": ".py",
   "mimetype": "text/x-python",
   "name": "python",
   "nbconvert_exporter": "python",
   "pygments_lexer": "ipython3",
   "version": "3.11.9"
  }
 },
 "nbformat": 4,
 "nbformat_minor": 5
}
